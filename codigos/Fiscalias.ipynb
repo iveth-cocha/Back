{
 "cells": [
  {
   "cell_type": "code",
   "execution_count": 27,
   "id": "ed9377a5-9990-4b02-ad87-77f32a796ac0",
   "metadata": {},
   "outputs": [],
   "source": [
    "#Librerias a usar\n",
    "import pandas as pd\n",
    "import psycopg2"
   ]
  },
  {
   "cell_type": "code",
   "execution_count": 28,
   "id": "2dd53334-1b4d-40bf-9e7e-6e97814af9c3",
   "metadata": {},
   "outputs": [
    {
     "name": "stdout",
     "output_type": "stream",
     "text": [
      "Conexión establecida correctamente\n"
     ]
    }
   ],
   "source": [
    "# Conexión a la base de datos PostgreSQL\n",
    "conexion = psycopg2.connect(\n",
    "    host=\"localhost\",\n",
    "    port=\"5432\",\n",
    "    database=\"CIBERPOL\",\n",
    "    user=\"postgres\",\n",
    "    password=\"password\"\n",
    ")\n",
    "cursor = conexion.cursor()\n",
    "print(\"Conexión establecida correctamente\")"
   ]
  },
  {
   "cell_type": "code",
   "execution_count": 29,
   "id": "1ae12f25-d3ef-4b1d-bd4f-05a30ea8cf67",
   "metadata": {},
   "outputs": [],
   "source": [
    "archivo_excel = 'Fiscalias.xlsx'\n",
    "# Lee el archivo Excel con los tipos de datos especificados\n",
    "df = pd.read_excel(archivo_excel, sheet_name='Nombres', engine='openpyxl')"
   ]
  },
  {
   "cell_type": "code",
   "execution_count": 30,
   "id": "78754ee5-ca2d-422b-9d3f-0f2fadf5321e",
   "metadata": {},
   "outputs": [
    {
     "data": {
      "text/html": [
       "<div>\n",
       "<style scoped>\n",
       "    .dataframe tbody tr th:only-of-type {\n",
       "        vertical-align: middle;\n",
       "    }\n",
       "\n",
       "    .dataframe tbody tr th {\n",
       "        vertical-align: top;\n",
       "    }\n",
       "\n",
       "    .dataframe thead th {\n",
       "        text-align: right;\n",
       "    }\n",
       "</style>\n",
       "<table border=\"1\" class=\"dataframe\">\n",
       "  <thead>\n",
       "    <tr style=\"text-align: right;\">\n",
       "      <th></th>\n",
       "      <th>Ficalias</th>\n",
       "    </tr>\n",
       "  </thead>\n",
       "  <tbody>\n",
       "    <tr>\n",
       "      <th>0</th>\n",
       "      <td>UNIDAD ESPECIALIZADA DE FISCALIA</td>\n",
       "    </tr>\n",
       "    <tr>\n",
       "      <th>1</th>\n",
       "      <td>ACTAUCIONES ADMINISTRATIVAS</td>\n",
       "    </tr>\n",
       "    <tr>\n",
       "      <th>2</th>\n",
       "      <td>ADMINISTRACION PUBLICA</td>\n",
       "    </tr>\n",
       "    <tr>\n",
       "      <th>3</th>\n",
       "      <td>ADOLESCENTES INFRACTORES</td>\n",
       "    </tr>\n",
       "    <tr>\n",
       "      <th>4</th>\n",
       "      <td>ANTILAVADO DE ACTIVOS</td>\n",
       "    </tr>\n",
       "  </tbody>\n",
       "</table>\n",
       "</div>"
      ],
      "text/plain": [
       "                           Ficalias\n",
       "0  UNIDAD ESPECIALIZADA DE FISCALIA\n",
       "1       ACTAUCIONES ADMINISTRATIVAS\n",
       "2            ADMINISTRACION PUBLICA\n",
       "3         ADOLESCENTES INFRACTORES \n",
       "4            ANTILAVADO DE ACTIVOS "
      ]
     },
     "execution_count": 30,
     "metadata": {},
     "output_type": "execute_result"
    }
   ],
   "source": [
    "\n",
    "df.head()"
   ]
  },
  {
   "cell_type": "code",
   "execution_count": 31,
   "id": "4b8b885e-58cb-4fcb-b557-f3ea2bc8499a",
   "metadata": {},
   "outputs": [
    {
     "name": "stdout",
     "output_type": "stream",
     "text": [
      "Index(['Ficalias'], dtype='object')\n"
     ]
    }
   ],
   "source": [
    "print(df.columns)"
   ]
  },
  {
   "cell_type": "code",
   "execution_count": 32,
   "id": "53e26484-b82e-47f4-b15d-19182ffdb2db",
   "metadata": {},
   "outputs": [],
   "source": [
    "columnas_Fiscalias= ['Ficalias']"
   ]
  },
  {
   "cell_type": "code",
   "execution_count": 33,
   "id": "3220f041-5479-4994-806c-e55f4a22140e",
   "metadata": {},
   "outputs": [],
   "source": [
    "# Iterar sobre las filas del DataFrame e insertar en la base de datos\n",
    "for indice, fila in df[columnas_Fiscalias].iterrows():\n",
    "    # Reemplazar los 'None' o celdas vacías por NULL\n",
    "    valores = tuple(None if pd.isna(valor) else valor for valor in fila)\n",
    "\n",
    "    # Mandar a los Campos Específicos de la Tabla en PostgreSQL\n",
    "    consulta = \"\"\"\n",
    "        INSERT INTO \"Ficalia\" (\"N_fiscalia\") VALUES (%s)\n",
    "    \"\"\"\n",
    "    cursor.execute(consulta, valores)\n",
    "    conexion.commit()  # Confirmar la transacción\n"
   ]
  },
  {
   "cell_type": "code",
   "execution_count": 34,
   "id": "f10d3965-1860-45ec-8b2c-b8efd6a09dbd",
   "metadata": {},
   "outputs": [],
   "source": [
    "\n",
    "# Cerrar el cursor y la conexión\n",
    "cursor.close()\n",
    "conexion.close()"
   ]
  },
  {
   "cell_type": "code",
   "execution_count": null,
   "id": "d9c79d66-2cf0-4905-9d79-bdb92f3fe192",
   "metadata": {},
   "outputs": [],
   "source": []
  }
 ],
 "metadata": {
  "kernelspec": {
   "display_name": "Python 3 (ipykernel)",
   "language": "python",
   "name": "python3"
  },
  "language_info": {
   "codemirror_mode": {
    "name": "ipython",
    "version": 3
   },
   "file_extension": ".py",
   "mimetype": "text/x-python",
   "name": "python",
   "nbconvert_exporter": "python",
   "pygments_lexer": "ipython3",
   "version": "3.11.5"
  }
 },
 "nbformat": 4,
 "nbformat_minor": 5
}
